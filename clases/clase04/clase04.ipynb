{
 "cells": [
  {
   "cell_type": "code",
   "execution_count": null,
   "metadata": {},
   "outputs": [],
   "source": [
    "#Sumo numeros desde 1 a 3\n",
    "#Cuento numeros desde 1 a 3\n",
    "n = int(input(\"Ingrese un numero: \"))\n",
    "suma = 0 #acumulador\n",
    "contador = 1 #contador\n",
    "\n",
    "while contador <= n:\n",
    "    suma += contador\n",
    "    contador += 1\n",
    "\n",
    "print('La suma es', suma)\n",
    "print('Hay', contador-1, 'entre 1 y 3')"
   ]
  },
  {
   "cell_type": "code",
   "execution_count": 29,
   "metadata": {},
   "outputs": [
    {
     "name": "stdout",
     "output_type": "stream",
     "text": [
      "Ingrese un numero: 4\n",
      "2 es par\n",
      "4 es par\n",
      "Numeros de pares entre 1 y 10: 2\n"
     ]
    }
   ],
   "source": [
    "numero = int(input(\"Ingrese un numero: \"))\n",
    "i=1\n",
    "contador = 0\n",
    "\n",
    "while i <= numero:\n",
    "    if i % 2 == 0:\n",
    "        print(i, 'es par')\n",
    "        contador += 1\n",
    "    i += 1\n",
    "print('Numeros de pares entre 1 y 10:', contador)"
   ]
  },
  {
   "cell_type": "code",
   "execution_count": null,
   "metadata": {},
   "outputs": [],
   "source": []
  },
  {
   "cell_type": "code",
   "execution_count": null,
   "metadata": {},
   "outputs": [],
   "source": []
  },
  {
   "cell_type": "code",
   "execution_count": null,
   "metadata": {},
   "outputs": [],
   "source": []
  }
 ],
 "metadata": {
  "kernelspec": {
   "display_name": "Python 3.6 (stgo_activities)",
   "language": "python",
   "name": "stgo_activities"
  },
  "language_info": {
   "codemirror_mode": {
    "name": "ipython",
    "version": 3
   },
   "file_extension": ".py",
   "mimetype": "text/x-python",
   "name": "python",
   "nbconvert_exporter": "python",
   "pygments_lexer": "ipython3",
   "version": "3.6.7"
  }
 },
 "nbformat": 4,
 "nbformat_minor": 2
}
